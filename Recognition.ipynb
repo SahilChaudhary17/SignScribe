{
 "cells": [
  {
   "cell_type": "code",
   "execution_count": 14,
   "metadata": {},
   "outputs": [],
   "source": [
    "import os\n",
    "import wget"
   ]
  },
  {
   "cell_type": "code",
   "execution_count": 15,
   "metadata": {},
   "outputs": [],
   "source": [
    "CUSTOM_MODEL_NAME = 'my_ssd_mobnet' \n",
    "PRETRAINED_MODEL_NAME = 'ssd_mobilenet_v2_fpnlite_320x320_coco17_tpu-8'\n",
    "PRETRAINED_MODEL_URL = 'http://download.tensorflow.org/models/object_detection/tf2/20200711/ssd_mobilenet_v2_fpnlite_320x320_coco17_tpu-8.tar.gz'\n",
    "TF_RECORD_SCRIPT_NAME = 'generate_tfrecord.py'\n",
    "LABEL_MAP_NAME = 'label_map.pbtxt'"
   ]
  },
  {
   "cell_type": "code",
   "execution_count": 16,
   "metadata": {},
   "outputs": [],
   "source": [
    "paths = {\n",
    "    'WORKSPACE_PATH': os.path.join('Tensorflow', 'workspace'),\n",
    "    'SCRIPTS_PATH': os.path.join('Tensorflow','scripts'),\n",
    "    'APIMODEL_PATH': os.path.join('Tensorflow','models'),\n",
    "    'ANNOTATION_PATH': os.path.join('Tensorflow', 'workspace','annotations'),\n",
    "    'IMAGE_PATH': os.path.join('Tensorflow', 'workspace','images'),\n",
    "    'MODEL_PATH': os.path.join('Tensorflow', 'workspace','models'),\n",
    "    'PRETRAINED_MODEL_PATH': os.path.join('Tensorflow', 'workspace','pre-trained-models'),\n",
    "    'CHECKPOINT_PATH': os.path.join('Tensorflow', 'workspace','models',CUSTOM_MODEL_NAME), \n",
    "    'OUTPUT_PATH': os.path.join('Tensorflow', 'workspace','models',CUSTOM_MODEL_NAME, 'export'), \n",
    "    'TFJS_PATH':os.path.join('Tensorflow', 'workspace','models',CUSTOM_MODEL_NAME, 'tfjsexport'), \n",
    "    'TFLITE_PATH':os.path.join('Tensorflow', 'workspace','models',CUSTOM_MODEL_NAME, 'tfliteexport'), \n",
    "    'PROTOC_PATH':os.path.join('Tensorflow','protoc')\n",
    " }\n",
    "\n",
    "ACTIONS_RECORD = os.path.join('Tensorflow', 'workspace', 'actions.txt')"
   ]
  },
  {
   "cell_type": "code",
   "execution_count": 17,
   "metadata": {},
   "outputs": [],
   "source": [
    "files = {\n",
    "    'PIPELINE_CONFIG':os.path.join('Tensorflow', 'workspace','models', CUSTOM_MODEL_NAME, 'pipeline.config'),\n",
    "    'TF_RECORD_SCRIPT': os.path.join(paths['SCRIPTS_PATH'], TF_RECORD_SCRIPT_NAME), \n",
    "    'LABELMAP': os.path.join(paths['ANNOTATION_PATH'], LABEL_MAP_NAME)\n",
    "}"
   ]
  },
  {
   "cell_type": "code",
   "execution_count": 18,
   "metadata": {},
   "outputs": [],
   "source": [
    "for path in paths.values():\n",
    "    if not os.path.exists(path):\n",
    "        if os.name == 'posix':\n",
    "            !mkdir -p {path}\n",
    "        if os.name == 'nt':\n",
    "            !mkdir {path}"
   ]
  },
  {
   "cell_type": "code",
   "execution_count": 19,
   "metadata": {},
   "outputs": [],
   "source": [
    "os.environ['PROTOCOL_BUFFERS_PYTHON_IMPLEMENTATION'] = 'python'"
   ]
  },
  {
   "cell_type": "code",
   "execution_count": 20,
   "metadata": {},
   "outputs": [],
   "source": [
    "import tensorflow as tf\n",
    "from object_detection.utils import label_map_util\n",
    "from object_detection.utils import visualization_utils as viz_utils\n",
    "from object_detection.builders import model_builder\n",
    "from object_detection.utils import config_util"
   ]
  },
  {
   "cell_type": "code",
   "execution_count": 21,
   "metadata": {},
   "outputs": [],
   "source": [
    "# Load pipeline config and build a detection model\n",
    "configs = config_util.get_configs_from_pipeline_file(files['PIPELINE_CONFIG'])\n",
    "detection_model = model_builder.build(model_config=configs['model'], is_training=False)\n",
    "\n",
    "# Restore checkpoint\n",
    "ckpt = tf.compat.v2.train.Checkpoint(model=detection_model)\n",
    "ckpt.restore(os.path.join(paths['CHECKPOINT_PATH'], 'ckpt-3')).expect_partial()\n",
    "\n",
    "@tf.function\n",
    "def detect_fn(image):\n",
    "    image, shapes = detection_model.preprocess(image)\n",
    "    prediction_dict = detection_model.predict(image, shapes)\n",
    "    detections = detection_model.postprocess(prediction_dict, shapes)\n",
    "    return detections"
   ]
  },
  {
   "cell_type": "code",
   "execution_count": 22,
   "metadata": {},
   "outputs": [],
   "source": [
    "import cv2 \n",
    "import numpy as np\n",
    "from matplotlib import pyplot as plt\n",
    "%matplotlib inline"
   ]
  },
  {
   "cell_type": "code",
   "execution_count": 23,
   "metadata": {},
   "outputs": [],
   "source": [
    "category_index = label_map_util.create_category_index_from_labelmap(files['LABELMAP'])"
   ]
  },
  {
   "cell_type": "markdown",
   "metadata": {},
   "source": [
    "Recognise using image"
   ]
  },
  {
   "cell_type": "code",
   "execution_count": 24,
   "metadata": {},
   "outputs": [
    {
     "ename": "InvalidArgumentError",
     "evalue": "Graph execution error:\n\nDetected at node 'Postprocessor/BatchMultiClassNonMaxSuppression/MultiClassNonMaxSuppression/Slice_4' defined at (most recent call last):\n    File \"C:\\Python3.9.6\\lib\\runpy.py\", line 197, in _run_module_as_main\n      return _run_code(code, main_globals, None,\n    File \"C:\\Python3.9.6\\lib\\runpy.py\", line 87, in _run_code\n      exec(code, run_globals)\n    File \"a:\\Codespace\\SignScribe1\\SignScribe_Raw\\SignScribe\\lib\\site-packages\\ipykernel_launcher.py\", line 17, in <module>\n      app.launch_new_instance()\n    File \"a:\\Codespace\\SignScribe1\\SignScribe_Raw\\SignScribe\\lib\\site-packages\\traitlets\\config\\application.py\", line 1077, in launch_instance\n      app.start()\n    File \"a:\\Codespace\\SignScribe1\\SignScribe_Raw\\SignScribe\\lib\\site-packages\\ipykernel\\kernelapp.py\", line 739, in start\n      self.io_loop.start()\n    File \"a:\\Codespace\\SignScribe1\\SignScribe_Raw\\SignScribe\\lib\\site-packages\\tornado\\platform\\asyncio.py\", line 205, in start\n      self.asyncio_loop.run_forever()\n    File \"C:\\Python3.9.6\\lib\\asyncio\\base_events.py\", line 596, in run_forever\n      self._run_once()\n    File \"C:\\Python3.9.6\\lib\\asyncio\\base_events.py\", line 1890, in _run_once\n      handle._run()\n    File \"C:\\Python3.9.6\\lib\\asyncio\\events.py\", line 80, in _run\n      self._context.run(self._callback, *self._args)\n    File \"a:\\Codespace\\SignScribe1\\SignScribe_Raw\\SignScribe\\lib\\site-packages\\ipykernel\\kernelbase.py\", line 529, in dispatch_queue\n      await self.process_one()\n    File \"a:\\Codespace\\SignScribe1\\SignScribe_Raw\\SignScribe\\lib\\site-packages\\ipykernel\\kernelbase.py\", line 518, in process_one\n      await dispatch(*args)\n    File \"a:\\Codespace\\SignScribe1\\SignScribe_Raw\\SignScribe\\lib\\site-packages\\ipykernel\\kernelbase.py\", line 424, in dispatch_shell\n      await result\n    File \"a:\\Codespace\\SignScribe1\\SignScribe_Raw\\SignScribe\\lib\\site-packages\\ipykernel\\kernelbase.py\", line 766, in execute_request\n      reply_content = await reply_content\n    File \"a:\\Codespace\\SignScribe1\\SignScribe_Raw\\SignScribe\\lib\\site-packages\\ipykernel\\ipkernel.py\", line 429, in do_execute\n      res = shell.run_cell(\n    File \"a:\\Codespace\\SignScribe1\\SignScribe_Raw\\SignScribe\\lib\\site-packages\\ipykernel\\zmqshell.py\", line 549, in run_cell\n      return super().run_cell(*args, **kwargs)\n    File \"a:\\Codespace\\SignScribe1\\SignScribe_Raw\\SignScribe\\lib\\site-packages\\IPython\\core\\interactiveshell.py\", line 3048, in run_cell\n      result = self._run_cell(\n    File \"a:\\Codespace\\SignScribe1\\SignScribe_Raw\\SignScribe\\lib\\site-packages\\IPython\\core\\interactiveshell.py\", line 3103, in _run_cell\n      result = runner(coro)\n    File \"a:\\Codespace\\SignScribe1\\SignScribe_Raw\\SignScribe\\lib\\site-packages\\IPython\\core\\async_helpers.py\", line 129, in _pseudo_sync_runner\n      coro.send(None)\n    File \"a:\\Codespace\\SignScribe1\\SignScribe_Raw\\SignScribe\\lib\\site-packages\\IPython\\core\\interactiveshell.py\", line 3308, in run_cell_async\n      has_raised = await self.run_ast_nodes(code_ast.body, cell_name,\n    File \"a:\\Codespace\\SignScribe1\\SignScribe_Raw\\SignScribe\\lib\\site-packages\\IPython\\core\\interactiveshell.py\", line 3490, in run_ast_nodes\n      if await self.run_code(code, result, async_=asy):\n    File \"a:\\Codespace\\SignScribe1\\SignScribe_Raw\\SignScribe\\lib\\site-packages\\IPython\\core\\interactiveshell.py\", line 3550, in run_code\n      exec(code_obj, self.user_global_ns, self.user_ns)\n    File \"C:\\Users\\sahil\\AppData\\Local\\Temp\\ipykernel_2716\\2741374415.py\", line 7, in <module>\n      detections = detect_fn(input_tensor)\n    File \"C:\\Users\\sahil\\AppData\\Local\\Temp\\ipykernel_2716\\3600898474.py\", line 13, in detect_fn\n      detections = detection_model.postprocess(prediction_dict, shapes)\n    File \"a:\\Codespace\\SignScribe1\\SignScribe_Raw\\SignScribe\\lib\\site-packages\\object_detection-0.1-py3.9.egg\\object_detection\\meta_architectures\\ssd_meta_arch.py\", line 764, in postprocess\n      (nmsed_boxes, nmsed_scores, nmsed_classes, nmsed_masks,\n    File \"a:\\Codespace\\SignScribe1\\SignScribe_Raw\\SignScribe\\lib\\site-packages\\object_detection-0.1-py3.9.egg\\object_detection\\core\\post_processing.py\", line 997, in batch_multiclass_non_max_suppression\n      if use_combined_nms:\n    File \"a:\\Codespace\\SignScribe1\\SignScribe_Raw\\SignScribe\\lib\\site-packages\\object_detection-0.1-py3.9.egg\\object_detection\\core\\post_processing.py\", line 1244, in batch_multiclass_non_max_suppression\n      batch_outputs = map_fn(\n    File \"a:\\Codespace\\SignScribe1\\SignScribe_Raw\\SignScribe\\lib\\site-packages\\object_detection-0.1-py3.9.egg\\object_detection\\utils\\shape_utils.py\", line 226, in static_or_dynamic_map_fn\n      if isinstance(elems, list):\n    File \"a:\\Codespace\\SignScribe1\\SignScribe_Raw\\SignScribe\\lib\\site-packages\\object_detection-0.1-py3.9.egg\\object_detection\\utils\\shape_utils.py\", line 226, in static_or_dynamic_map_fn\n      if isinstance(elems, list):\n    File \"a:\\Codespace\\SignScribe1\\SignScribe_Raw\\SignScribe\\lib\\site-packages\\object_detection-0.1-py3.9.egg\\object_detection\\utils\\shape_utils.py\", line 239, in static_or_dynamic_map_fn\n      outputs = [fn(arg_tuple) for arg_tuple in arg_tuples]\n    File \"a:\\Codespace\\SignScribe1\\SignScribe_Raw\\SignScribe\\lib\\site-packages\\object_detection-0.1-py3.9.egg\\object_detection\\utils\\shape_utils.py\", line 239, in static_or_dynamic_map_fn\n      outputs = [fn(arg_tuple) for arg_tuple in arg_tuples]\n    File \"a:\\Codespace\\SignScribe1\\SignScribe_Raw\\SignScribe\\lib\\site-packages\\object_detection-0.1-py3.9.egg\\object_detection\\core\\post_processing.py\", line 1184, in _single_image_nms_fn\n      if use_class_agnostic_nms:\n    File \"a:\\Codespace\\SignScribe1\\SignScribe_Raw\\SignScribe\\lib\\site-packages\\object_detection-0.1-py3.9.egg\\object_detection\\core\\post_processing.py\", line 1200, in _single_image_nms_fn\n      nmsed_boxlist, num_valid_nms_boxes = multiclass_non_max_suppression(\n    File \"a:\\Codespace\\SignScribe1\\SignScribe_Raw\\SignScribe\\lib\\site-packages\\object_detection-0.1-py3.9.egg\\object_detection\\core\\post_processing.py\", line 530, in multiclass_non_max_suppression\n      for class_idx, boxes_idx in zip(range(num_classes), boxes_ids):\n    File \"a:\\Codespace\\SignScribe1\\SignScribe_Raw\\SignScribe\\lib\\site-packages\\object_detection-0.1-py3.9.egg\\object_detection\\core\\post_processing.py\", line 533, in multiclass_non_max_suppression\n      class_scores = tf.reshape(\nNode: 'Postprocessor/BatchMultiClassNonMaxSuppression/MultiClassNonMaxSuppression/Slice_4'\nExpected size[0] in [0, 4268], but got 12804\n\t [[{{node Postprocessor/BatchMultiClassNonMaxSuppression/MultiClassNonMaxSuppression/Slice_4}}]] [Op:__inference_detect_fn_19593]",
     "output_type": "error",
     "traceback": [
      "\u001b[1;31m---------------------------------------------------------------------------\u001b[0m",
      "\u001b[1;31mInvalidArgumentError\u001b[0m                      Traceback (most recent call last)",
      "Cell \u001b[1;32mIn[24], line 7\u001b[0m\n\u001b[0;32m      4\u001b[0m image_np \u001b[38;5;241m=\u001b[39m np\u001b[38;5;241m.\u001b[39marray(img)\n\u001b[0;32m      6\u001b[0m input_tensor \u001b[38;5;241m=\u001b[39m tf\u001b[38;5;241m.\u001b[39mconvert_to_tensor(np\u001b[38;5;241m.\u001b[39mexpand_dims(image_np, \u001b[38;5;241m0\u001b[39m), dtype\u001b[38;5;241m=\u001b[39mtf\u001b[38;5;241m.\u001b[39mfloat32)\n\u001b[1;32m----> 7\u001b[0m detections \u001b[38;5;241m=\u001b[39m \u001b[43mdetect_fn\u001b[49m\u001b[43m(\u001b[49m\u001b[43minput_tensor\u001b[49m\u001b[43m)\u001b[49m\n\u001b[0;32m      9\u001b[0m num_detections \u001b[38;5;241m=\u001b[39m \u001b[38;5;28mint\u001b[39m(detections\u001b[38;5;241m.\u001b[39mpop(\u001b[38;5;124m'\u001b[39m\u001b[38;5;124mnum_detections\u001b[39m\u001b[38;5;124m'\u001b[39m))\n\u001b[0;32m     10\u001b[0m detections \u001b[38;5;241m=\u001b[39m {key: value[\u001b[38;5;241m0\u001b[39m, :num_detections]\u001b[38;5;241m.\u001b[39mnumpy()\n\u001b[0;32m     11\u001b[0m               \u001b[38;5;28;01mfor\u001b[39;00m key, value \u001b[38;5;129;01min\u001b[39;00m detections\u001b[38;5;241m.\u001b[39mitems()}\n",
      "File \u001b[1;32ma:\\Codespace\\SignScribe1\\SignScribe_Raw\\SignScribe\\lib\\site-packages\\tensorflow\\python\\util\\traceback_utils.py:153\u001b[0m, in \u001b[0;36mfilter_traceback.<locals>.error_handler\u001b[1;34m(*args, **kwargs)\u001b[0m\n\u001b[0;32m    151\u001b[0m \u001b[38;5;28;01mexcept\u001b[39;00m \u001b[38;5;167;01mException\u001b[39;00m \u001b[38;5;28;01mas\u001b[39;00m e:\n\u001b[0;32m    152\u001b[0m   filtered_tb \u001b[38;5;241m=\u001b[39m _process_traceback_frames(e\u001b[38;5;241m.\u001b[39m__traceback__)\n\u001b[1;32m--> 153\u001b[0m   \u001b[38;5;28;01mraise\u001b[39;00m e\u001b[38;5;241m.\u001b[39mwith_traceback(filtered_tb) \u001b[38;5;28;01mfrom\u001b[39;00m \u001b[38;5;28;01mNone\u001b[39;00m\n\u001b[0;32m    154\u001b[0m \u001b[38;5;28;01mfinally\u001b[39;00m:\n\u001b[0;32m    155\u001b[0m   \u001b[38;5;28;01mdel\u001b[39;00m filtered_tb\n",
      "File \u001b[1;32ma:\\Codespace\\SignScribe1\\SignScribe_Raw\\SignScribe\\lib\\site-packages\\tensorflow\\python\\eager\\execute.py:53\u001b[0m, in \u001b[0;36mquick_execute\u001b[1;34m(op_name, num_outputs, inputs, attrs, ctx, name)\u001b[0m\n\u001b[0;32m     51\u001b[0m \u001b[38;5;28;01mtry\u001b[39;00m:\n\u001b[0;32m     52\u001b[0m   ctx\u001b[38;5;241m.\u001b[39mensure_initialized()\n\u001b[1;32m---> 53\u001b[0m   tensors \u001b[38;5;241m=\u001b[39m pywrap_tfe\u001b[38;5;241m.\u001b[39mTFE_Py_Execute(ctx\u001b[38;5;241m.\u001b[39m_handle, device_name, op_name,\n\u001b[0;32m     54\u001b[0m                                       inputs, attrs, num_outputs)\n\u001b[0;32m     55\u001b[0m \u001b[38;5;28;01mexcept\u001b[39;00m core\u001b[38;5;241m.\u001b[39m_NotOkStatusException \u001b[38;5;28;01mas\u001b[39;00m e:\n\u001b[0;32m     56\u001b[0m   \u001b[38;5;28;01mif\u001b[39;00m name \u001b[38;5;129;01mis\u001b[39;00m \u001b[38;5;129;01mnot\u001b[39;00m \u001b[38;5;28;01mNone\u001b[39;00m:\n",
      "\u001b[1;31mInvalidArgumentError\u001b[0m: Graph execution error:\n\nDetected at node 'Postprocessor/BatchMultiClassNonMaxSuppression/MultiClassNonMaxSuppression/Slice_4' defined at (most recent call last):\n    File \"C:\\Python3.9.6\\lib\\runpy.py\", line 197, in _run_module_as_main\n      return _run_code(code, main_globals, None,\n    File \"C:\\Python3.9.6\\lib\\runpy.py\", line 87, in _run_code\n      exec(code, run_globals)\n    File \"a:\\Codespace\\SignScribe1\\SignScribe_Raw\\SignScribe\\lib\\site-packages\\ipykernel_launcher.py\", line 17, in <module>\n      app.launch_new_instance()\n    File \"a:\\Codespace\\SignScribe1\\SignScribe_Raw\\SignScribe\\lib\\site-packages\\traitlets\\config\\application.py\", line 1077, in launch_instance\n      app.start()\n    File \"a:\\Codespace\\SignScribe1\\SignScribe_Raw\\SignScribe\\lib\\site-packages\\ipykernel\\kernelapp.py\", line 739, in start\n      self.io_loop.start()\n    File \"a:\\Codespace\\SignScribe1\\SignScribe_Raw\\SignScribe\\lib\\site-packages\\tornado\\platform\\asyncio.py\", line 205, in start\n      self.asyncio_loop.run_forever()\n    File \"C:\\Python3.9.6\\lib\\asyncio\\base_events.py\", line 596, in run_forever\n      self._run_once()\n    File \"C:\\Python3.9.6\\lib\\asyncio\\base_events.py\", line 1890, in _run_once\n      handle._run()\n    File \"C:\\Python3.9.6\\lib\\asyncio\\events.py\", line 80, in _run\n      self._context.run(self._callback, *self._args)\n    File \"a:\\Codespace\\SignScribe1\\SignScribe_Raw\\SignScribe\\lib\\site-packages\\ipykernel\\kernelbase.py\", line 529, in dispatch_queue\n      await self.process_one()\n    File \"a:\\Codespace\\SignScribe1\\SignScribe_Raw\\SignScribe\\lib\\site-packages\\ipykernel\\kernelbase.py\", line 518, in process_one\n      await dispatch(*args)\n    File \"a:\\Codespace\\SignScribe1\\SignScribe_Raw\\SignScribe\\lib\\site-packages\\ipykernel\\kernelbase.py\", line 424, in dispatch_shell\n      await result\n    File \"a:\\Codespace\\SignScribe1\\SignScribe_Raw\\SignScribe\\lib\\site-packages\\ipykernel\\kernelbase.py\", line 766, in execute_request\n      reply_content = await reply_content\n    File \"a:\\Codespace\\SignScribe1\\SignScribe_Raw\\SignScribe\\lib\\site-packages\\ipykernel\\ipkernel.py\", line 429, in do_execute\n      res = shell.run_cell(\n    File \"a:\\Codespace\\SignScribe1\\SignScribe_Raw\\SignScribe\\lib\\site-packages\\ipykernel\\zmqshell.py\", line 549, in run_cell\n      return super().run_cell(*args, **kwargs)\n    File \"a:\\Codespace\\SignScribe1\\SignScribe_Raw\\SignScribe\\lib\\site-packages\\IPython\\core\\interactiveshell.py\", line 3048, in run_cell\n      result = self._run_cell(\n    File \"a:\\Codespace\\SignScribe1\\SignScribe_Raw\\SignScribe\\lib\\site-packages\\IPython\\core\\interactiveshell.py\", line 3103, in _run_cell\n      result = runner(coro)\n    File \"a:\\Codespace\\SignScribe1\\SignScribe_Raw\\SignScribe\\lib\\site-packages\\IPython\\core\\async_helpers.py\", line 129, in _pseudo_sync_runner\n      coro.send(None)\n    File \"a:\\Codespace\\SignScribe1\\SignScribe_Raw\\SignScribe\\lib\\site-packages\\IPython\\core\\interactiveshell.py\", line 3308, in run_cell_async\n      has_raised = await self.run_ast_nodes(code_ast.body, cell_name,\n    File \"a:\\Codespace\\SignScribe1\\SignScribe_Raw\\SignScribe\\lib\\site-packages\\IPython\\core\\interactiveshell.py\", line 3490, in run_ast_nodes\n      if await self.run_code(code, result, async_=asy):\n    File \"a:\\Codespace\\SignScribe1\\SignScribe_Raw\\SignScribe\\lib\\site-packages\\IPython\\core\\interactiveshell.py\", line 3550, in run_code\n      exec(code_obj, self.user_global_ns, self.user_ns)\n    File \"C:\\Users\\sahil\\AppData\\Local\\Temp\\ipykernel_2716\\2741374415.py\", line 7, in <module>\n      detections = detect_fn(input_tensor)\n    File \"C:\\Users\\sahil\\AppData\\Local\\Temp\\ipykernel_2716\\3600898474.py\", line 13, in detect_fn\n      detections = detection_model.postprocess(prediction_dict, shapes)\n    File \"a:\\Codespace\\SignScribe1\\SignScribe_Raw\\SignScribe\\lib\\site-packages\\object_detection-0.1-py3.9.egg\\object_detection\\meta_architectures\\ssd_meta_arch.py\", line 764, in postprocess\n      (nmsed_boxes, nmsed_scores, nmsed_classes, nmsed_masks,\n    File \"a:\\Codespace\\SignScribe1\\SignScribe_Raw\\SignScribe\\lib\\site-packages\\object_detection-0.1-py3.9.egg\\object_detection\\core\\post_processing.py\", line 997, in batch_multiclass_non_max_suppression\n      if use_combined_nms:\n    File \"a:\\Codespace\\SignScribe1\\SignScribe_Raw\\SignScribe\\lib\\site-packages\\object_detection-0.1-py3.9.egg\\object_detection\\core\\post_processing.py\", line 1244, in batch_multiclass_non_max_suppression\n      batch_outputs = map_fn(\n    File \"a:\\Codespace\\SignScribe1\\SignScribe_Raw\\SignScribe\\lib\\site-packages\\object_detection-0.1-py3.9.egg\\object_detection\\utils\\shape_utils.py\", line 226, in static_or_dynamic_map_fn\n      if isinstance(elems, list):\n    File \"a:\\Codespace\\SignScribe1\\SignScribe_Raw\\SignScribe\\lib\\site-packages\\object_detection-0.1-py3.9.egg\\object_detection\\utils\\shape_utils.py\", line 226, in static_or_dynamic_map_fn\n      if isinstance(elems, list):\n    File \"a:\\Codespace\\SignScribe1\\SignScribe_Raw\\SignScribe\\lib\\site-packages\\object_detection-0.1-py3.9.egg\\object_detection\\utils\\shape_utils.py\", line 239, in static_or_dynamic_map_fn\n      outputs = [fn(arg_tuple) for arg_tuple in arg_tuples]\n    File \"a:\\Codespace\\SignScribe1\\SignScribe_Raw\\SignScribe\\lib\\site-packages\\object_detection-0.1-py3.9.egg\\object_detection\\utils\\shape_utils.py\", line 239, in static_or_dynamic_map_fn\n      outputs = [fn(arg_tuple) for arg_tuple in arg_tuples]\n    File \"a:\\Codespace\\SignScribe1\\SignScribe_Raw\\SignScribe\\lib\\site-packages\\object_detection-0.1-py3.9.egg\\object_detection\\core\\post_processing.py\", line 1184, in _single_image_nms_fn\n      if use_class_agnostic_nms:\n    File \"a:\\Codespace\\SignScribe1\\SignScribe_Raw\\SignScribe\\lib\\site-packages\\object_detection-0.1-py3.9.egg\\object_detection\\core\\post_processing.py\", line 1200, in _single_image_nms_fn\n      nmsed_boxlist, num_valid_nms_boxes = multiclass_non_max_suppression(\n    File \"a:\\Codespace\\SignScribe1\\SignScribe_Raw\\SignScribe\\lib\\site-packages\\object_detection-0.1-py3.9.egg\\object_detection\\core\\post_processing.py\", line 530, in multiclass_non_max_suppression\n      for class_idx, boxes_idx in zip(range(num_classes), boxes_ids):\n    File \"a:\\Codespace\\SignScribe1\\SignScribe_Raw\\SignScribe\\lib\\site-packages\\object_detection-0.1-py3.9.egg\\object_detection\\core\\post_processing.py\", line 533, in multiclass_non_max_suppression\n      class_scores = tf.reshape(\nNode: 'Postprocessor/BatchMultiClassNonMaxSuppression/MultiClassNonMaxSuppression/Slice_4'\nExpected size[0] in [0, 4268], but got 12804\n\t [[{{node Postprocessor/BatchMultiClassNonMaxSuppression/MultiClassNonMaxSuppression/Slice_4}}]] [Op:__inference_detect_fn_19593]"
     ]
    }
   ],
   "source": [
    "IMAGE_PATH = os.path.join(paths['IMAGE_PATH'], 'collectedimages', 'hello.1d98cd02-9ccf-11ee-9f25-6479f0d2f3ad.jpg')\n",
    "\n",
    "img = cv2.imread(IMAGE_PATH)\n",
    "image_np = np.array(img)\n",
    "\n",
    "input_tensor = tf.convert_to_tensor(np.expand_dims(image_np, 0), dtype=tf.float32)\n",
    "detections = detect_fn(input_tensor)\n",
    "\n",
    "num_detections = int(detections.pop('num_detections'))\n",
    "detections = {key: value[0, :num_detections].numpy()\n",
    "              for key, value in detections.items()}\n",
    "detections['num_detections'] = num_detections\n",
    "\n",
    "# detection_classes should be ints.\n",
    "detections['detection_classes'] = detections['detection_classes'].astype(np.int64)\n",
    "\n",
    "label_id_offset = 1\n",
    "image_np_with_detections = image_np.copy()\n",
    "\n",
    "viz_utils.visualize_boxes_and_labels_on_image_array(\n",
    "            image_np_with_detections,\n",
    "            detections['detection_boxes'],\n",
    "            detections['detection_classes']+label_id_offset,\n",
    "            detections['detection_scores'],\n",
    "            category_index,\n",
    "            use_normalized_coordinates=True,\n",
    "            max_boxes_to_draw=5,\n",
    "            min_score_thresh=.8,\n",
    "            agnostic_mode=False)\n",
    "\n",
    "plt.imshow(cv2.cvtColor(image_np_with_detections, cv2.COLOR_BGR2RGB))\n",
    "plt.show()"
   ]
  },
  {
   "cell_type": "markdown",
   "metadata": {},
   "source": [
    "Recognise live"
   ]
  },
  {
   "cell_type": "code",
   "execution_count": 25,
   "metadata": {},
   "outputs": [
    {
     "ename": "InvalidArgumentError",
     "evalue": "Graph execution error:\n\nDetected at node 'Postprocessor/BatchMultiClassNonMaxSuppression/MultiClassNonMaxSuppression/Slice_4' defined at (most recent call last):\n    File \"C:\\Python3.9.6\\lib\\runpy.py\", line 197, in _run_module_as_main\n      return _run_code(code, main_globals, None,\n    File \"C:\\Python3.9.6\\lib\\runpy.py\", line 87, in _run_code\n      exec(code, run_globals)\n    File \"a:\\Codespace\\SignScribe1\\SignScribe_Raw\\SignScribe\\lib\\site-packages\\ipykernel_launcher.py\", line 17, in <module>\n      app.launch_new_instance()\n    File \"a:\\Codespace\\SignScribe1\\SignScribe_Raw\\SignScribe\\lib\\site-packages\\traitlets\\config\\application.py\", line 1077, in launch_instance\n      app.start()\n    File \"a:\\Codespace\\SignScribe1\\SignScribe_Raw\\SignScribe\\lib\\site-packages\\ipykernel\\kernelapp.py\", line 739, in start\n      self.io_loop.start()\n    File \"a:\\Codespace\\SignScribe1\\SignScribe_Raw\\SignScribe\\lib\\site-packages\\tornado\\platform\\asyncio.py\", line 205, in start\n      self.asyncio_loop.run_forever()\n    File \"C:\\Python3.9.6\\lib\\asyncio\\base_events.py\", line 596, in run_forever\n      self._run_once()\n    File \"C:\\Python3.9.6\\lib\\asyncio\\base_events.py\", line 1890, in _run_once\n      handle._run()\n    File \"C:\\Python3.9.6\\lib\\asyncio\\events.py\", line 80, in _run\n      self._context.run(self._callback, *self._args)\n    File \"a:\\Codespace\\SignScribe1\\SignScribe_Raw\\SignScribe\\lib\\site-packages\\ipykernel\\kernelbase.py\", line 529, in dispatch_queue\n      await self.process_one()\n    File \"a:\\Codespace\\SignScribe1\\SignScribe_Raw\\SignScribe\\lib\\site-packages\\ipykernel\\kernelbase.py\", line 518, in process_one\n      await dispatch(*args)\n    File \"a:\\Codespace\\SignScribe1\\SignScribe_Raw\\SignScribe\\lib\\site-packages\\ipykernel\\kernelbase.py\", line 424, in dispatch_shell\n      await result\n    File \"a:\\Codespace\\SignScribe1\\SignScribe_Raw\\SignScribe\\lib\\site-packages\\ipykernel\\kernelbase.py\", line 766, in execute_request\n      reply_content = await reply_content\n    File \"a:\\Codespace\\SignScribe1\\SignScribe_Raw\\SignScribe\\lib\\site-packages\\ipykernel\\ipkernel.py\", line 429, in do_execute\n      res = shell.run_cell(\n    File \"a:\\Codespace\\SignScribe1\\SignScribe_Raw\\SignScribe\\lib\\site-packages\\ipykernel\\zmqshell.py\", line 549, in run_cell\n      return super().run_cell(*args, **kwargs)\n    File \"a:\\Codespace\\SignScribe1\\SignScribe_Raw\\SignScribe\\lib\\site-packages\\IPython\\core\\interactiveshell.py\", line 3048, in run_cell\n      result = self._run_cell(\n    File \"a:\\Codespace\\SignScribe1\\SignScribe_Raw\\SignScribe\\lib\\site-packages\\IPython\\core\\interactiveshell.py\", line 3103, in _run_cell\n      result = runner(coro)\n    File \"a:\\Codespace\\SignScribe1\\SignScribe_Raw\\SignScribe\\lib\\site-packages\\IPython\\core\\async_helpers.py\", line 129, in _pseudo_sync_runner\n      coro.send(None)\n    File \"a:\\Codespace\\SignScribe1\\SignScribe_Raw\\SignScribe\\lib\\site-packages\\IPython\\core\\interactiveshell.py\", line 3308, in run_cell_async\n      has_raised = await self.run_ast_nodes(code_ast.body, cell_name,\n    File \"a:\\Codespace\\SignScribe1\\SignScribe_Raw\\SignScribe\\lib\\site-packages\\IPython\\core\\interactiveshell.py\", line 3490, in run_ast_nodes\n      if await self.run_code(code, result, async_=asy):\n    File \"a:\\Codespace\\SignScribe1\\SignScribe_Raw\\SignScribe\\lib\\site-packages\\IPython\\core\\interactiveshell.py\", line 3550, in run_code\n      exec(code_obj, self.user_global_ns, self.user_ns)\n    File \"C:\\Users\\sahil\\AppData\\Local\\Temp\\ipykernel_2716\\2741374415.py\", line 7, in <module>\n      detections = detect_fn(input_tensor)\n    File \"C:\\Users\\sahil\\AppData\\Local\\Temp\\ipykernel_2716\\3600898474.py\", line 13, in detect_fn\n      detections = detection_model.postprocess(prediction_dict, shapes)\n    File \"a:\\Codespace\\SignScribe1\\SignScribe_Raw\\SignScribe\\lib\\site-packages\\object_detection-0.1-py3.9.egg\\object_detection\\meta_architectures\\ssd_meta_arch.py\", line 764, in postprocess\n      (nmsed_boxes, nmsed_scores, nmsed_classes, nmsed_masks,\n    File \"a:\\Codespace\\SignScribe1\\SignScribe_Raw\\SignScribe\\lib\\site-packages\\object_detection-0.1-py3.9.egg\\object_detection\\core\\post_processing.py\", line 997, in batch_multiclass_non_max_suppression\n      if use_combined_nms:\n    File \"a:\\Codespace\\SignScribe1\\SignScribe_Raw\\SignScribe\\lib\\site-packages\\object_detection-0.1-py3.9.egg\\object_detection\\core\\post_processing.py\", line 1244, in batch_multiclass_non_max_suppression\n      batch_outputs = map_fn(\n    File \"a:\\Codespace\\SignScribe1\\SignScribe_Raw\\SignScribe\\lib\\site-packages\\object_detection-0.1-py3.9.egg\\object_detection\\utils\\shape_utils.py\", line 226, in static_or_dynamic_map_fn\n      if isinstance(elems, list):\n    File \"a:\\Codespace\\SignScribe1\\SignScribe_Raw\\SignScribe\\lib\\site-packages\\object_detection-0.1-py3.9.egg\\object_detection\\utils\\shape_utils.py\", line 226, in static_or_dynamic_map_fn\n      if isinstance(elems, list):\n    File \"a:\\Codespace\\SignScribe1\\SignScribe_Raw\\SignScribe\\lib\\site-packages\\object_detection-0.1-py3.9.egg\\object_detection\\utils\\shape_utils.py\", line 239, in static_or_dynamic_map_fn\n      outputs = [fn(arg_tuple) for arg_tuple in arg_tuples]\n    File \"a:\\Codespace\\SignScribe1\\SignScribe_Raw\\SignScribe\\lib\\site-packages\\object_detection-0.1-py3.9.egg\\object_detection\\utils\\shape_utils.py\", line 239, in static_or_dynamic_map_fn\n      outputs = [fn(arg_tuple) for arg_tuple in arg_tuples]\n    File \"a:\\Codespace\\SignScribe1\\SignScribe_Raw\\SignScribe\\lib\\site-packages\\object_detection-0.1-py3.9.egg\\object_detection\\core\\post_processing.py\", line 1184, in _single_image_nms_fn\n      if use_class_agnostic_nms:\n    File \"a:\\Codespace\\SignScribe1\\SignScribe_Raw\\SignScribe\\lib\\site-packages\\object_detection-0.1-py3.9.egg\\object_detection\\core\\post_processing.py\", line 1200, in _single_image_nms_fn\n      nmsed_boxlist, num_valid_nms_boxes = multiclass_non_max_suppression(\n    File \"a:\\Codespace\\SignScribe1\\SignScribe_Raw\\SignScribe\\lib\\site-packages\\object_detection-0.1-py3.9.egg\\object_detection\\core\\post_processing.py\", line 530, in multiclass_non_max_suppression\n      for class_idx, boxes_idx in zip(range(num_classes), boxes_ids):\n    File \"a:\\Codespace\\SignScribe1\\SignScribe_Raw\\SignScribe\\lib\\site-packages\\object_detection-0.1-py3.9.egg\\object_detection\\core\\post_processing.py\", line 533, in multiclass_non_max_suppression\n      class_scores = tf.reshape(\nNode: 'Postprocessor/BatchMultiClassNonMaxSuppression/MultiClassNonMaxSuppression/Slice_4'\nExpected size[0] in [0, 4268], but got 12804\n\t [[{{node Postprocessor/BatchMultiClassNonMaxSuppression/MultiClassNonMaxSuppression/Slice_4}}]] [Op:__inference_detect_fn_19593]",
     "output_type": "error",
     "traceback": [
      "\u001b[1;31m---------------------------------------------------------------------------\u001b[0m",
      "\u001b[1;31mInvalidArgumentError\u001b[0m                      Traceback (most recent call last)",
      "Cell \u001b[1;32mIn[25], line 10\u001b[0m\n\u001b[0;32m      7\u001b[0m image_np \u001b[38;5;241m=\u001b[39m np\u001b[38;5;241m.\u001b[39marray(frame)\n\u001b[0;32m      9\u001b[0m input_tensor \u001b[38;5;241m=\u001b[39m tf\u001b[38;5;241m.\u001b[39mconvert_to_tensor(np\u001b[38;5;241m.\u001b[39mexpand_dims(image_np, \u001b[38;5;241m0\u001b[39m), dtype\u001b[38;5;241m=\u001b[39mtf\u001b[38;5;241m.\u001b[39mfloat32)\n\u001b[1;32m---> 10\u001b[0m detections \u001b[38;5;241m=\u001b[39m \u001b[43mdetect_fn\u001b[49m\u001b[43m(\u001b[49m\u001b[43minput_tensor\u001b[49m\u001b[43m)\u001b[49m\n\u001b[0;32m     12\u001b[0m num_detections \u001b[38;5;241m=\u001b[39m \u001b[38;5;28mint\u001b[39m(detections\u001b[38;5;241m.\u001b[39mpop(\u001b[38;5;124m'\u001b[39m\u001b[38;5;124mnum_detections\u001b[39m\u001b[38;5;124m'\u001b[39m))\n\u001b[0;32m     13\u001b[0m detections \u001b[38;5;241m=\u001b[39m {key: value[\u001b[38;5;241m0\u001b[39m, :num_detections]\u001b[38;5;241m.\u001b[39mnumpy()\n\u001b[0;32m     14\u001b[0m               \u001b[38;5;28;01mfor\u001b[39;00m key, value \u001b[38;5;129;01min\u001b[39;00m detections\u001b[38;5;241m.\u001b[39mitems()}\n",
      "File \u001b[1;32ma:\\Codespace\\SignScribe1\\SignScribe_Raw\\SignScribe\\lib\\site-packages\\tensorflow\\python\\util\\traceback_utils.py:153\u001b[0m, in \u001b[0;36mfilter_traceback.<locals>.error_handler\u001b[1;34m(*args, **kwargs)\u001b[0m\n\u001b[0;32m    151\u001b[0m \u001b[38;5;28;01mexcept\u001b[39;00m \u001b[38;5;167;01mException\u001b[39;00m \u001b[38;5;28;01mas\u001b[39;00m e:\n\u001b[0;32m    152\u001b[0m   filtered_tb \u001b[38;5;241m=\u001b[39m _process_traceback_frames(e\u001b[38;5;241m.\u001b[39m__traceback__)\n\u001b[1;32m--> 153\u001b[0m   \u001b[38;5;28;01mraise\u001b[39;00m e\u001b[38;5;241m.\u001b[39mwith_traceback(filtered_tb) \u001b[38;5;28;01mfrom\u001b[39;00m \u001b[38;5;28;01mNone\u001b[39;00m\n\u001b[0;32m    154\u001b[0m \u001b[38;5;28;01mfinally\u001b[39;00m:\n\u001b[0;32m    155\u001b[0m   \u001b[38;5;28;01mdel\u001b[39;00m filtered_tb\n",
      "File \u001b[1;32ma:\\Codespace\\SignScribe1\\SignScribe_Raw\\SignScribe\\lib\\site-packages\\tensorflow\\python\\eager\\execute.py:53\u001b[0m, in \u001b[0;36mquick_execute\u001b[1;34m(op_name, num_outputs, inputs, attrs, ctx, name)\u001b[0m\n\u001b[0;32m     51\u001b[0m \u001b[38;5;28;01mtry\u001b[39;00m:\n\u001b[0;32m     52\u001b[0m   ctx\u001b[38;5;241m.\u001b[39mensure_initialized()\n\u001b[1;32m---> 53\u001b[0m   tensors \u001b[38;5;241m=\u001b[39m pywrap_tfe\u001b[38;5;241m.\u001b[39mTFE_Py_Execute(ctx\u001b[38;5;241m.\u001b[39m_handle, device_name, op_name,\n\u001b[0;32m     54\u001b[0m                                       inputs, attrs, num_outputs)\n\u001b[0;32m     55\u001b[0m \u001b[38;5;28;01mexcept\u001b[39;00m core\u001b[38;5;241m.\u001b[39m_NotOkStatusException \u001b[38;5;28;01mas\u001b[39;00m e:\n\u001b[0;32m     56\u001b[0m   \u001b[38;5;28;01mif\u001b[39;00m name \u001b[38;5;129;01mis\u001b[39;00m \u001b[38;5;129;01mnot\u001b[39;00m \u001b[38;5;28;01mNone\u001b[39;00m:\n",
      "\u001b[1;31mInvalidArgumentError\u001b[0m: Graph execution error:\n\nDetected at node 'Postprocessor/BatchMultiClassNonMaxSuppression/MultiClassNonMaxSuppression/Slice_4' defined at (most recent call last):\n    File \"C:\\Python3.9.6\\lib\\runpy.py\", line 197, in _run_module_as_main\n      return _run_code(code, main_globals, None,\n    File \"C:\\Python3.9.6\\lib\\runpy.py\", line 87, in _run_code\n      exec(code, run_globals)\n    File \"a:\\Codespace\\SignScribe1\\SignScribe_Raw\\SignScribe\\lib\\site-packages\\ipykernel_launcher.py\", line 17, in <module>\n      app.launch_new_instance()\n    File \"a:\\Codespace\\SignScribe1\\SignScribe_Raw\\SignScribe\\lib\\site-packages\\traitlets\\config\\application.py\", line 1077, in launch_instance\n      app.start()\n    File \"a:\\Codespace\\SignScribe1\\SignScribe_Raw\\SignScribe\\lib\\site-packages\\ipykernel\\kernelapp.py\", line 739, in start\n      self.io_loop.start()\n    File \"a:\\Codespace\\SignScribe1\\SignScribe_Raw\\SignScribe\\lib\\site-packages\\tornado\\platform\\asyncio.py\", line 205, in start\n      self.asyncio_loop.run_forever()\n    File \"C:\\Python3.9.6\\lib\\asyncio\\base_events.py\", line 596, in run_forever\n      self._run_once()\n    File \"C:\\Python3.9.6\\lib\\asyncio\\base_events.py\", line 1890, in _run_once\n      handle._run()\n    File \"C:\\Python3.9.6\\lib\\asyncio\\events.py\", line 80, in _run\n      self._context.run(self._callback, *self._args)\n    File \"a:\\Codespace\\SignScribe1\\SignScribe_Raw\\SignScribe\\lib\\site-packages\\ipykernel\\kernelbase.py\", line 529, in dispatch_queue\n      await self.process_one()\n    File \"a:\\Codespace\\SignScribe1\\SignScribe_Raw\\SignScribe\\lib\\site-packages\\ipykernel\\kernelbase.py\", line 518, in process_one\n      await dispatch(*args)\n    File \"a:\\Codespace\\SignScribe1\\SignScribe_Raw\\SignScribe\\lib\\site-packages\\ipykernel\\kernelbase.py\", line 424, in dispatch_shell\n      await result\n    File \"a:\\Codespace\\SignScribe1\\SignScribe_Raw\\SignScribe\\lib\\site-packages\\ipykernel\\kernelbase.py\", line 766, in execute_request\n      reply_content = await reply_content\n    File \"a:\\Codespace\\SignScribe1\\SignScribe_Raw\\SignScribe\\lib\\site-packages\\ipykernel\\ipkernel.py\", line 429, in do_execute\n      res = shell.run_cell(\n    File \"a:\\Codespace\\SignScribe1\\SignScribe_Raw\\SignScribe\\lib\\site-packages\\ipykernel\\zmqshell.py\", line 549, in run_cell\n      return super().run_cell(*args, **kwargs)\n    File \"a:\\Codespace\\SignScribe1\\SignScribe_Raw\\SignScribe\\lib\\site-packages\\IPython\\core\\interactiveshell.py\", line 3048, in run_cell\n      result = self._run_cell(\n    File \"a:\\Codespace\\SignScribe1\\SignScribe_Raw\\SignScribe\\lib\\site-packages\\IPython\\core\\interactiveshell.py\", line 3103, in _run_cell\n      result = runner(coro)\n    File \"a:\\Codespace\\SignScribe1\\SignScribe_Raw\\SignScribe\\lib\\site-packages\\IPython\\core\\async_helpers.py\", line 129, in _pseudo_sync_runner\n      coro.send(None)\n    File \"a:\\Codespace\\SignScribe1\\SignScribe_Raw\\SignScribe\\lib\\site-packages\\IPython\\core\\interactiveshell.py\", line 3308, in run_cell_async\n      has_raised = await self.run_ast_nodes(code_ast.body, cell_name,\n    File \"a:\\Codespace\\SignScribe1\\SignScribe_Raw\\SignScribe\\lib\\site-packages\\IPython\\core\\interactiveshell.py\", line 3490, in run_ast_nodes\n      if await self.run_code(code, result, async_=asy):\n    File \"a:\\Codespace\\SignScribe1\\SignScribe_Raw\\SignScribe\\lib\\site-packages\\IPython\\core\\interactiveshell.py\", line 3550, in run_code\n      exec(code_obj, self.user_global_ns, self.user_ns)\n    File \"C:\\Users\\sahil\\AppData\\Local\\Temp\\ipykernel_2716\\2741374415.py\", line 7, in <module>\n      detections = detect_fn(input_tensor)\n    File \"C:\\Users\\sahil\\AppData\\Local\\Temp\\ipykernel_2716\\3600898474.py\", line 13, in detect_fn\n      detections = detection_model.postprocess(prediction_dict, shapes)\n    File \"a:\\Codespace\\SignScribe1\\SignScribe_Raw\\SignScribe\\lib\\site-packages\\object_detection-0.1-py3.9.egg\\object_detection\\meta_architectures\\ssd_meta_arch.py\", line 764, in postprocess\n      (nmsed_boxes, nmsed_scores, nmsed_classes, nmsed_masks,\n    File \"a:\\Codespace\\SignScribe1\\SignScribe_Raw\\SignScribe\\lib\\site-packages\\object_detection-0.1-py3.9.egg\\object_detection\\core\\post_processing.py\", line 997, in batch_multiclass_non_max_suppression\n      if use_combined_nms:\n    File \"a:\\Codespace\\SignScribe1\\SignScribe_Raw\\SignScribe\\lib\\site-packages\\object_detection-0.1-py3.9.egg\\object_detection\\core\\post_processing.py\", line 1244, in batch_multiclass_non_max_suppression\n      batch_outputs = map_fn(\n    File \"a:\\Codespace\\SignScribe1\\SignScribe_Raw\\SignScribe\\lib\\site-packages\\object_detection-0.1-py3.9.egg\\object_detection\\utils\\shape_utils.py\", line 226, in static_or_dynamic_map_fn\n      if isinstance(elems, list):\n    File \"a:\\Codespace\\SignScribe1\\SignScribe_Raw\\SignScribe\\lib\\site-packages\\object_detection-0.1-py3.9.egg\\object_detection\\utils\\shape_utils.py\", line 226, in static_or_dynamic_map_fn\n      if isinstance(elems, list):\n    File \"a:\\Codespace\\SignScribe1\\SignScribe_Raw\\SignScribe\\lib\\site-packages\\object_detection-0.1-py3.9.egg\\object_detection\\utils\\shape_utils.py\", line 239, in static_or_dynamic_map_fn\n      outputs = [fn(arg_tuple) for arg_tuple in arg_tuples]\n    File \"a:\\Codespace\\SignScribe1\\SignScribe_Raw\\SignScribe\\lib\\site-packages\\object_detection-0.1-py3.9.egg\\object_detection\\utils\\shape_utils.py\", line 239, in static_or_dynamic_map_fn\n      outputs = [fn(arg_tuple) for arg_tuple in arg_tuples]\n    File \"a:\\Codespace\\SignScribe1\\SignScribe_Raw\\SignScribe\\lib\\site-packages\\object_detection-0.1-py3.9.egg\\object_detection\\core\\post_processing.py\", line 1184, in _single_image_nms_fn\n      if use_class_agnostic_nms:\n    File \"a:\\Codespace\\SignScribe1\\SignScribe_Raw\\SignScribe\\lib\\site-packages\\object_detection-0.1-py3.9.egg\\object_detection\\core\\post_processing.py\", line 1200, in _single_image_nms_fn\n      nmsed_boxlist, num_valid_nms_boxes = multiclass_non_max_suppression(\n    File \"a:\\Codespace\\SignScribe1\\SignScribe_Raw\\SignScribe\\lib\\site-packages\\object_detection-0.1-py3.9.egg\\object_detection\\core\\post_processing.py\", line 530, in multiclass_non_max_suppression\n      for class_idx, boxes_idx in zip(range(num_classes), boxes_ids):\n    File \"a:\\Codespace\\SignScribe1\\SignScribe_Raw\\SignScribe\\lib\\site-packages\\object_detection-0.1-py3.9.egg\\object_detection\\core\\post_processing.py\", line 533, in multiclass_non_max_suppression\n      class_scores = tf.reshape(\nNode: 'Postprocessor/BatchMultiClassNonMaxSuppression/MultiClassNonMaxSuppression/Slice_4'\nExpected size[0] in [0, 4268], but got 12804\n\t [[{{node Postprocessor/BatchMultiClassNonMaxSuppression/MultiClassNonMaxSuppression/Slice_4}}]] [Op:__inference_detect_fn_19593]"
     ]
    }
   ],
   "source": [
    "cap = cv2.VideoCapture(0)\n",
    "width = int(cap.get(cv2.CAP_PROP_FRAME_WIDTH))\n",
    "height = int(cap.get(cv2.CAP_PROP_FRAME_HEIGHT))\n",
    "\n",
    "while cap.isOpened(): \n",
    "    ret, frame = cap.read()\n",
    "    image_np = np.array(frame)\n",
    "    \n",
    "    input_tensor = tf.convert_to_tensor(np.expand_dims(image_np, 0), dtype=tf.float32)\n",
    "    detections = detect_fn(input_tensor)\n",
    "    \n",
    "    num_detections = int(detections.pop('num_detections'))\n",
    "    detections = {key: value[0, :num_detections].numpy()\n",
    "                  for key, value in detections.items()}\n",
    "    detections['num_detections'] = num_detections\n",
    "\n",
    "    # detection_classes should be ints.\n",
    "    detections['detection_classes'] = detections['detection_classes'].astype(np.int64)\n",
    "\n",
    "    label_id_offset = 1\n",
    "    image_np_with_detections = image_np.copy()\n",
    "\n",
    "    viz_utils.visualize_boxes_and_labels_on_image_array(\n",
    "                image_np_with_detections,\n",
    "                detections['detection_boxes'],\n",
    "                detections['detection_classes']+label_id_offset,\n",
    "                detections['detection_scores'],\n",
    "                category_index,\n",
    "                use_normalized_coordinates=True,\n",
    "                max_boxes_to_draw=5,\n",
    "                min_score_thresh=.7,\n",
    "                agnostic_mode=False)\n",
    "\n",
    "    cv2.imshow('object detection',  cv2.resize(image_np_with_detections, (800, 600)))\n",
    "    \n",
    "    if cv2.waitKey(10) & 0xFF == ord('q'):\n",
    "        cap.release()\n",
    "        cv2.destroyAllWindows()\n",
    "        break"
   ]
  },
  {
   "cell_type": "code",
   "execution_count": null,
   "metadata": {},
   "outputs": [],
   "source": []
  }
 ],
 "metadata": {
  "kernelspec": {
   "display_name": "SignScribe",
   "language": "python",
   "name": "signscribe"
  },
  "language_info": {
   "codemirror_mode": {
    "name": "ipython",
    "version": 3
   },
   "file_extension": ".py",
   "mimetype": "text/x-python",
   "name": "python",
   "nbconvert_exporter": "python",
   "pygments_lexer": "ipython3",
   "version": "3.9.6"
  }
 },
 "nbformat": 4,
 "nbformat_minor": 2
}
