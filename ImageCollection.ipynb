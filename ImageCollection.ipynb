{
 "cells": [
  {
   "cell_type": "code",
   "execution_count": 2,
   "metadata": {},
   "outputs": [],
   "source": [
    "# Install in virtual env kernel\n",
    "\n",
    "#!pip install opencv-python\n",
    "#!pip install pyqt5\n",
    "#!pip install lxml"
   ]
  },
  {
   "cell_type": "markdown",
   "metadata": {},
   "source": [
    "Import Libraries and configure"
   ]
  },
  {
   "cell_type": "code",
   "execution_count": 1,
   "metadata": {},
   "outputs": [],
   "source": [
    "import cv2\n",
    "import uuid\n",
    "import os\n",
    "import time"
   ]
  },
  {
   "cell_type": "code",
   "execution_count": 2,
   "metadata": {},
   "outputs": [],
   "source": [
    "number_imgs = 5"
   ]
  },
  {
   "cell_type": "markdown",
   "metadata": {},
   "source": [
    "Setup Folders"
   ]
  },
  {
   "cell_type": "code",
   "execution_count": 3,
   "metadata": {},
   "outputs": [],
   "source": [
    "IMAGES_PATH = os.path.join('Tensorflow', 'workspace', 'images', 'collectedimages')\n",
    "LABELIMG_PATH = os.path.join('Tensorflow', 'labelimg')\n",
    "ACTIONS_RECORD = os.path.join('Tensorflow', 'workspace', 'actions.txt')"
   ]
  },
  {
   "cell_type": "code",
   "execution_count": 4,
   "metadata": {},
   "outputs": [],
   "source": [
    "if not os.path.exists(IMAGES_PATH):\n",
    "  if os.name == 'posix':\n",
    "    !mkdir -p {IMAGES_PATH}\n",
    "  if os.name == 'nt':\n",
    "    !mkdir {IMAGES_PATH}\n",
    "\n",
    "if not os.path.exists(LABELIMG_PATH):\n",
    "  if os.name == 'posix':\n",
    "    !mkdir -p {LABELIMG_PATH}\n",
    "  if os.name == 'nt':\n",
    "    !mkdir {LABELIMG_PATH}\n",
    "\n",
    "  !git clone https://github.com/tzutalin/labelImg {LABELIMG_PATH}"
   ]
  },
  {
   "cell_type": "markdown",
   "metadata": {},
   "source": [
    "Record actions"
   ]
  },
  {
   "cell_type": "code",
   "execution_count": 17,
   "metadata": {},
   "outputs": [],
   "source": [
    "action = input('Enter action')\n",
    "\n",
    "with open(ACTIONS_RECORD, 'a+') as file:\n",
    "    content = file.read()\n",
    "    if action not in content:\n",
    "        file.write(action + \"\\n\")\n",
    "\n",
    "cap = cv2.VideoCapture(0)\n",
    "\n",
    "for imgnum in range(number_imgs+1):\n",
    "    ret, frame = cap.read()\n",
    "    cv2.putText(frame, f'Collecting frames for {action} - Image Number {imgnum}', (15, 12),\n",
    "                cv2.FONT_HERSHEY_SIMPLEX, 0.5, (0, 0, 255), 1, cv2.LINE_AA)\n",
    "\n",
    "    for countdown in range(5, 0, -1):\n",
    "        countdown_frame = frame.copy()\n",
    "            \n",
    "        cv2.putText(countdown_frame, f'Capturing in {countdown} seconds', (120, 200),\n",
    "                    cv2.FONT_HERSHEY_SIMPLEX, 1, (0, 255, 0), 4, cv2.LINE_AA)\n",
    "            \n",
    "        cv2.imshow('Countdown', countdown_frame)\n",
    "        cv2.waitKey(1000)\n",
    "\n",
    "    if imgnum != 0:\n",
    "        imgname = os.path.join(IMAGES_PATH, action+'.'+f'{str(uuid.uuid1())}.jpg')\n",
    "        cv2.imwrite(imgname, frame)\n",
    "\n",
    "    if cv2.waitKey(10) & 0xFF == ord('q'):\n",
    "        break\n",
    "    \n",
    "cap.release()\n",
    "cv2.destroyAllWindows()"
   ]
  },
  {
   "cell_type": "code",
   "execution_count": 18,
   "metadata": {},
   "outputs": [
    {
     "data": {
      "text/plain": [
       "['hello', 'help', 'wrong', 'no', 'right']"
      ]
     },
     "execution_count": 18,
     "metadata": {},
     "output_type": "execute_result"
    }
   ],
   "source": [
    "labels = []\n",
    "with open(ACTIONS_RECORD, 'r') as file:\n",
    "    labels = file.read().splitlines()\n",
    "\n",
    "labels"
   ]
  },
  {
   "cell_type": "code",
   "execution_count": 19,
   "metadata": {},
   "outputs": [],
   "source": [
    "if os.name == 'posix':\n",
    "  !cd {LABELIMG_PATH} && make qt5py3\n",
    "if os.name == 'nt':\n",
    "  !cd {LABELIMG_PATH} && pyrcc5 -o libs/resources.py resources.qrc"
   ]
  },
  {
   "cell_type": "code",
   "execution_count": 20,
   "metadata": {},
   "outputs": [
    {
     "name": "stdout",
     "output_type": "stream",
     "text": [
      "Image:A:\\Codespace\\SignScribe1\\SignScribe_Raw\\Tensorflow\\workspace\\images\\collectedimages\\right.3bbe79f2-9d08-11ee-8825-6479f0d2f3ad.jpg -> Annotation:A:/Codespace/SignScribe1/SignScribe_Raw/Tensorflow/workspace/images/collectedimages\\right.3bbe79f2-9d08-11ee-8825-6479f0d2f3ad.xml\n",
      "Image:A:\\Codespace\\SignScribe1\\SignScribe_Raw\\Tensorflow\\workspace\\images\\collectedimages\\right.3ecbc689-9d08-11ee-b0b2-6479f0d2f3ad.jpg -> Annotation:A:/Codespace/SignScribe1/SignScribe_Raw/Tensorflow/workspace/images/collectedimages\\right.3ecbc689-9d08-11ee-b0b2-6479f0d2f3ad.xml\n",
      "Image:A:\\Codespace\\SignScribe1\\SignScribe_Raw\\Tensorflow\\workspace\\images\\collectedimages\\right.35aa1cb3-9d08-11ee-afd2-6479f0d2f3ad.jpg -> Annotation:A:/Codespace/SignScribe1/SignScribe_Raw/Tensorflow/workspace/images/collectedimages\\right.35aa1cb3-9d08-11ee-afd2-6479f0d2f3ad.xml\n",
      "Image:A:\\Codespace\\SignScribe1\\SignScribe_Raw\\Tensorflow\\workspace\\images\\collectedimages\\right.38b2eb56-9d08-11ee-93f6-6479f0d2f3ad.jpg -> Annotation:A:/Codespace/SignScribe1/SignScribe_Raw/Tensorflow/workspace/images/collectedimages\\right.38b2eb56-9d08-11ee-93f6-6479f0d2f3ad.xml\n",
      "Image:A:\\Codespace\\SignScribe1\\SignScribe_Raw\\Tensorflow\\workspace\\images\\collectedimages\\right.41d4b2ed-9d08-11ee-b03a-6479f0d2f3ad.jpg -> Annotation:A:/Codespace/SignScribe1/SignScribe_Raw/Tensorflow/workspace/images/collectedimages\\right.41d4b2ed-9d08-11ee-b03a-6479f0d2f3ad.xml\n"
     ]
    }
   ],
   "source": [
    "!cd {LABELIMG_PATH} && python labelImg.py"
   ]
  },
  {
   "cell_type": "code",
   "execution_count": null,
   "metadata": {},
   "outputs": [],
   "source": []
  }
 ],
 "metadata": {
  "kernelspec": {
   "display_name": "SignScribe",
   "language": "python",
   "name": "signscribe"
  },
  "language_info": {
   "codemirror_mode": {
    "name": "ipython",
    "version": 3
   },
   "file_extension": ".py",
   "mimetype": "text/x-python",
   "name": "python",
   "nbconvert_exporter": "python",
   "pygments_lexer": "ipython3",
   "version": "3.9.6"
  }
 },
 "nbformat": 4,
 "nbformat_minor": 2
}
